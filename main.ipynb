{
 "cells": [
  {
   "cell_type": "markdown",
   "metadata": {},
   "source": [
    "# Machine Learning Project: French Grand Debat"
   ]
  },
  {
   "cell_type": "markdown",
   "metadata": {},
   "source": [
    "### Project Introduction :\n",
    "\n",
    "First, we would like to choose a problematic according to the data we collected. The aim of this project could be to answer the following questions:\n",
    "\n",
    "* What are the 5 most important topics on each theme?\n",
    "* Can we build different profiles of people with their ideas on the 4 themes?\n",
    " \n",
    "#### Doability :\n",
    "\n",
    "We are going to import the data, then check if the ids of people who submitted ideas on different themes are the same. If not, we won't be able to answer the second question.\n"
   ]
  },
  {
   "cell_type": "code",
   "execution_count": 11,
   "metadata": {},
   "outputs": [],
   "source": [
    "# librairies imported\n",
    "import src.utils as ut #read data\n",
    "import numpy as np"
   ]
  },
  {
   "cell_type": "markdown",
   "metadata": {},
   "source": [
    "#### Data extraction"
   ]
  },
  {
   "cell_type": "code",
   "execution_count": 4,
   "metadata": {},
   "outputs": [],
   "source": [
    "df_fiscalite = ut.read_data('data/LA_FISCALITE_ET_LES_DEPENSES_PUBLIQUES.json')\n",
    "df_democratie = ut.read_data('data/DEMOCRATIE_ET_CITOYENNETE.json')\n",
    "df_ecologie = ut.read_data('data/LA_TRANSITION_ECOLOGIQUE.json')\n",
    "df_organisation = ut.read_data('data/ORGANISATION_DE_LETAT_ET_DES_SERVICES_PUBLICS.json')"
   ]
  },
  {
   "cell_type": "code",
   "execution_count": 12,
   "metadata": {},
   "outputs": [
    {
     "name": "stdout",
     "output_type": "stream",
     "text": [
      "in fiscalite author VXNlcjo3NmI3NTM2MS0xYjI2LTExZTktOTRkMi1mYTE2M2VlYjExZTE= :\n",
      "5    66540\n",
      "Name: authorZipCode, dtype: int64\n",
      "in democratie author VXNlcjo3NmI3NTM2MS0xYjI2LTExZTktOTRkMi1mYTE2M2VlYjExZTE= :\n",
      "19       66540\n",
      "35225    66540\n",
      "Name: authorZipCode, dtype: int64\n",
      "in ecologie author VXNlcjo3NmI3NTM2MS0xYjI2LTExZTktOTRkMi1mYTE2M2VlYjExZTE= :\n",
      "31    66540\n",
      "Name: authorZipCode, dtype: int64\n",
      "in organisation author VXNlcjo3NmI3NTM2MS0xYjI2LTExZTktOTRkMi1mYTE2M2VlYjExZTE= :\n",
      "25       66540\n",
      "66       66540\n",
      "72       66540\n",
      "38715    66540\n",
      "38719    66540\n",
      "Name: authorZipCode, dtype: int64\n"
     ]
    }
   ],
   "source": [
    "auth = df_fiscalite.loc[5, 'authorId']\n",
    "\n",
    "dfs = np.array([[\"fiscalite\", df_fiscalite], [\"democratie\", df_democratie], [\"ecologie\", df_ecologie], [\"organisation\", df_organisation]])\n",
    "for df in dfs:\n",
    "    print(\"in \" + df[0] + \" author \" + auth + \" :\")\n",
    "    print(df[1].loc[df[1]['authorId'] == auth, 'authorZipCode'])"
   ]
  },
  {
   "cell_type": "markdown",
   "metadata": {},
   "source": [
    "**From the previous lines, we can see that the `authorId` is likly to be an unique id whaterver the dataframe (zip code is the same).**\n",
    "\n",
    "### How many people answerd the 4 themes ?"
   ]
  },
  {
   "cell_type": "code",
   "execution_count": 17,
   "metadata": {},
   "outputs": [
    {
     "name": "stderr",
     "output_type": "stream",
     "text": [
      "IOPub data rate exceeded.\n",
      "The notebook server will temporarily stop sending output\n",
      "to the client in order to avoid crashing it.\n",
      "To change this limit, set the config variable\n",
      "`--NotebookApp.iopub_data_rate_limit`.\n",
      "\n",
      "Current values:\n",
      "NotebookApp.iopub_data_rate_limit=1000000.0 (bytes/sec)\n",
      "NotebookApp.rate_limit_window=3.0 (secs)\n",
      "\n"
     ]
    }
   ],
   "source": [
    "allAuthIds = set(dfs[0,1]['authorId'])\n",
    "print(allAuthIds)"
   ]
  }
 ],
 "metadata": {
  "kernelspec": {
   "display_name": "Python 3",
   "language": "python",
   "name": "python3"
  },
  "language_info": {
   "codemirror_mode": {
    "name": "ipython",
    "version": 3
   },
   "file_extension": ".py",
   "mimetype": "text/x-python",
   "name": "python",
   "nbconvert_exporter": "python",
   "pygments_lexer": "ipython3",
   "version": "3.7.2"
  }
 },
 "nbformat": 4,
 "nbformat_minor": 2
}
